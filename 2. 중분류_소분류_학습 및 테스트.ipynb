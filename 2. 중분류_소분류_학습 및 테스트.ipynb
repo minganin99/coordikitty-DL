{
 "cells": [
  {
   "cell_type": "code",
   "execution_count": 1,
   "metadata": {},
   "outputs": [],
   "source": [
    "#테스트 코드\n",
    "import torch\n",
    "from torchvision import transforms\n",
    "from PIL import Image\n",
    "import pandas as pd\n",
    "import os\n",
    "from torchvision import models\n",
    "\n",
    "# GPU 설정\n",
    "device = torch.device(\"cuda\" if torch.cuda.is_available() else \"cpu\")\n"
   ]
  },
  {
   "cell_type": "code",
   "execution_count": 10,
   "metadata": {},
   "outputs": [
    {
     "name": "stderr",
     "output_type": "stream",
     "text": [
      "c:\\Users\\mkmy7\\anaconda3\\envs\\Pytorch\\Lib\\site-packages\\torchvision\\models\\_utils.py:208: UserWarning: The parameter 'pretrained' is deprecated since 0.13 and may be removed in the future, please use 'weights' instead.\n",
      "  warnings.warn(\n",
      "c:\\Users\\mkmy7\\anaconda3\\envs\\Pytorch\\Lib\\site-packages\\torchvision\\models\\_utils.py:223: UserWarning: Arguments other than a weight enum or `None` for 'weights' are deprecated since 0.13 and may be removed in the future. The current behavior is equivalent to passing `weights=None`.\n",
      "  warnings.warn(msg)\n"
     ]
    }
   ],
   "source": [
    "# 모델 정의 및 조정\n",
    "model_m = models.resnet50(pretrained=False)\n",
    "num_ftrs = model_m.fc.in_features\n",
    "model_m.fc = torch.nn.Linear(num_ftrs, 2)  \n",
    "model_m = model_m.to(device)\n",
    "\n",
    "# 모델 로드\n",
    "checkpoint_path = 'D:/minkwan/무신사 크롤링/coordikitty-ML-DL/중분류 모델링/model_resnet50_중분류.pth'\n",
    "checkpoint = torch.load(checkpoint_path, map_location=device)\n",
    "model_m.load_state_dict(checkpoint['model_state_dict'])\n",
    "model_m.eval()\n",
    "\n",
    "# 데이터 전처리\n",
    "transform = transforms.Compose([\n",
    "    transforms.Resize(256),\n",
    "    transforms.CenterCrop(224),\n",
    "    transforms.Lambda(lambda x: x.convert('RGB')),\n",
    "    transforms.ToTensor(),\n",
    "    transforms.Normalize(mean=[0.485, 0.456, 0.406], std=[0.229, 0.224, 0.225]),\n",
    "])\n",
    "\n",
    "# 라벨 인덱스를 medium_category로 매핑\n",
    "dfm = pd.read_csv('D:/minkwan/무신사 크롤링/coordikitty-ML-DL/중분류 모델링/중분류(데님,스웨트).csv')\n",
    "class_names_m = dfm['medium_category'].unique()\n",
    "class_names_m = sorted(class_names_m, key=lambda x: list(dfm['medium_category']).index(x))\n",
    "idx_to_class_m = {i: class_name for i, class_name in enumerate(class_names_m)}\n",
    "\n",
    "def predict_image_category_m(image_path, model_m, transform, device, idx_to_class):\n",
    "    image = Image.open(image_path)\n",
    "    image = transform(image).unsqueeze(0).to(device)\n",
    "    \n",
    "    with torch.no_grad():\n",
    "        outputs = model_m(image)\n",
    "        _, predicted = torch.max(outputs, 1)\n",
    "        predicted_idx = predicted.item()\n",
    "        category = idx_to_class[predicted_idx]\n",
    "    \n",
    "    return category\n",
    "\n",
    "\n"
   ]
  },
  {
   "cell_type": "code",
   "execution_count": 11,
   "metadata": {},
   "outputs": [
    {
     "name": "stderr",
     "output_type": "stream",
     "text": [
      "c:\\Users\\mkmy7\\anaconda3\\envs\\Pytorch\\Lib\\site-packages\\torchvision\\models\\_utils.py:208: UserWarning: The parameter 'pretrained' is deprecated since 0.13 and may be removed in the future, please use 'weights' instead.\n",
      "  warnings.warn(\n",
      "c:\\Users\\mkmy7\\anaconda3\\envs\\Pytorch\\Lib\\site-packages\\torchvision\\models\\_utils.py:223: UserWarning: Arguments other than a weight enum or `None` for 'weights' are deprecated since 0.13 and may be removed in the future. The current behavior is equivalent to passing `weights=None`.\n",
      "  warnings.warn(msg)\n"
     ]
    }
   ],
   "source": [
    "# 모델 정의 및 조정\n",
    "model_s = models.resnet50(pretrained=False)\n",
    "num_ftrs = model_s.fc.in_features\n",
    "model_s.fc = torch.nn.Linear(num_ftrs, 3)  # 체크포인트와 일치하도록 클래스 수를 3으로 변경\n",
    "model_s = model_s.to(device)\n",
    "\n",
    "# 모델 로드\n",
    "checkpoint_path = 'D:/minkwan/무신사 크롤링/coordikitty-ML-DL/소분류 모델링/model_resnet50_소분류.pth'\n",
    "checkpoint = torch.load(checkpoint_path, map_location=device)\n",
    "model_s.load_state_dict(checkpoint['model_state_dict'])\n",
    "model_s.eval()\n",
    "\n",
    "# 데이터 전처리\n",
    "transform = transforms.Compose([\n",
    "    transforms.Resize(256),\n",
    "    transforms.CenterCrop(224),\n",
    "    transforms.Lambda(lambda x: x.convert('RGB')),\n",
    "    transforms.ToTensor(),\n",
    "    transforms.Normalize(mean=[0.485, 0.456, 0.406], std=[0.229, 0.224, 0.225]),\n",
    "])\n",
    "\n",
    "# 라벨 인덱스를 small_category로 매핑\n",
    "dfs = pd.read_csv('D:/minkwan/무신사 크롤링/coordikitty-ML-DL/소분류 모델링/소분류(데님,스웨트).csv')\n",
    "class_names_s = dfs['small_category'].unique()\n",
    "class_names_s = sorted(class_names_s, key=lambda x: list(dfs['small_category']).index(x))\n",
    "idx_to_class_s = {i: class_name for i, class_name in enumerate(class_names_s)}\n",
    "\n",
    "def predict_image_category_s(image_path, model_s, transform, device, idx_to_class):\n",
    "    image = Image.open(image_path)\n",
    "    image = transform(image).unsqueeze(0).to(device)\n",
    "    \n",
    "    with torch.no_grad():\n",
    "        outputs = model_s(image)\n",
    "        _, predicted = torch.max(outputs, 1)\n",
    "        predicted_idx = predicted.item()\n",
    "        category = idx_to_class[predicted_idx]\n",
    "    \n",
    "    return category\n"
   ]
  },
  {
   "cell_type": "code",
   "execution_count": 12,
   "metadata": {},
   "outputs": [
    {
     "name": "stdout",
     "output_type": "stream",
     "text": [
      "The predicted medium_category is: 숏팬츠\n",
      "The predicted small_category is: 스웨트\n"
     ]
    }
   ],
   "source": [
    "# 테스트할 이미지 경로\n",
    "test_image_path = 'D:/minkwan/무신사 크롤링/coordikitty-ML-DL/압축/롱팬츠_스웨트/long_pants_sweat_test_data_90장/KakaoTalk_20240601_233416332_01.jpg'\n",
    "\n",
    "# 예측 수행\n",
    "predicted_category_m = predict_image_category_m(test_image_path, model_m, transform, device, idx_to_class_m)\n",
    "if predicted_category_m == 0:\n",
    "    print(f'The predicted medium_category is: 롱팬츠')\n",
    "elif predicted_category_m == 1:\n",
    "    print(f'The predicted medium_category is: 숏팬츠')\n",
    "    \n",
    "# 예측 수행\n",
    "predicted_category_s = predict_image_category_s(test_image_path, model_s, transform, device, idx_to_class_s)\n",
    "if predicted_category_s == 0:\n",
    "    print(f'The predicted small_category is: 데님')\n",
    "elif predicted_category_s == 1:\n",
    "    print(f'The predicted small_category is: 스웨트')"
   ]
  }
 ],
 "metadata": {
  "kernelspec": {
   "display_name": "Pytorch",
   "language": "python",
   "name": "python3"
  },
  "language_info": {
   "codemirror_mode": {
    "name": "ipython",
    "version": 3
   },
   "file_extension": ".py",
   "mimetype": "text/x-python",
   "name": "python",
   "nbconvert_exporter": "python",
   "pygments_lexer": "ipython3",
   "version": "3.11.9"
  }
 },
 "nbformat": 4,
 "nbformat_minor": 2
}
